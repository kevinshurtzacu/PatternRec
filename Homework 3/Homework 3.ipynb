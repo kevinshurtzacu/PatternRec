{
 "cells": [
  {
   "cell_type": "markdown",
   "metadata": {},
   "source": [
    "*Name*: Kevin Shurtz  \n",
    "*Class*: Pattern Recognition (Spring 2018)\n",
    "\n",
    "# Title\n",
    "We will train a classifier to identity handwritten numeric characters using the k-nearest neighbors algorithm.  \n",
    "\n",
    "## Problem Description\n",
    "Given a sample of handwritten numeric characters, an classifier must identify the number to which each of the sample characters corresponds.  This can be accomplished by identifying a numeric \"distance\" value between the pixel representations of the unknown character and the centoid of an existing training set for each character, using the k-nearest neighbors algorithm.  \n",
    "\n",
    "## Solution Method\n",
    "For the sample data, I will provide a single handwritten sample of each character to be evaluated by the classifier.  The charcters that will be used were initially written on a whiteboard.  They were then digitally scanned (using the 12 megapixel iPhone 6S camera) and converted to grayscale.  Finally, the contrast in the images was increased and each was converted to 8x8 pixelized images using Paint.NET.  After some undesirable qualities in the pixel data, I used the `imagemagick` tool with Bash on the Windows Subsystem for Linux to flatten the images and remove the alpha.\n",
    "\n",
    "I employed a one-line script resembling (though not identical to) the following to complete the task:\n",
    "```\n",
    "for i in {0..9}; do\n",
    "    # use the Imagemagick tool ot flatten and remove alpha from each file\n",
    "    convert \"Pixelized Number $i.png\" -background white -alpha remove -flatten \"Pixelized Number $i.png\"\n",
    "done\n",
    "```\n",
    "\n",
    "These samples will be evaluated against the trained classifier, hopefully producing accurate results.  "
   ]
  },
  {
   "cell_type": "markdown",
   "metadata": {},
   "source": [
    "## Input\n",
    "### Sample Data Input"
   ]
  },
  {
   "cell_type": "code",
   "execution_count": 44,
   "metadata": {},
   "outputs": [
    {
     "data": {
      "image/png": "[encoded data removed]",
      "text/plain": [
       "<matplotlib.figure.Figure at 0x23f72d48630>"
      ]
     },
     "metadata": {},
     "output_type": "display_data"
    }
   ],
   "source": [
    "from sklearn.datasets import load_digits\n",
    "from PIL import Image\n",
    "import matplotlib.pyplot as plt\n",
    "import numpy as np\n",
    "\n",
    "sample_images = list()\n",
    "file_root = r'C:\\Users\\Kevin\\Google Drive\\Academic\\College\\Curricular\\Physics 453 - Pattern Recognition\\Homework\\Homework 3'\n",
    "\n",
    "# Open and store sample dataset\n",
    "for i in range(10):\n",
    "    # Use Pillow to open image\n",
    "    image = Image.open(f'{file_root}\\\\Pixelized Images\\\\Pixelized Number {i}.png')\n",
    "    \n",
    "    # Initially, all RGB values are inverted and must be fixed\n",
    "    pixel_grid = np.asarray(image)\n",
    "    sample_images.append([np.array(row, dtype='float') for row in [255 - col for col in pixel_grid]])\n",
    "\n",
    "# Taken and modified from the example to display personal samples\n",
    "fig = plt.figure(figsize=(10, 5))\n",
    "fig.subplots_adjust(left=0, right=1, bottom=0, top=1, hspace=0.05, wspace=0.05)\n",
    "\n",
    "for i in range(10):\n",
    "    ax = fig.add_subplot(5, 10, i + 1, xticks=[], yticks=[])\n",
    "    ax.imshow(sample_images[i], cmap=plt.cm.binary, interpolation='nearest')\n",
    "    \n",
    "    # Include target data\n",
    "    ax.text(0, 1, str(i))\n",
    "\n",
    "# Display sample digits\n",
    "plt.show()"
   ]
  },
  {
   "cell_type": "markdown",
   "metadata": {},
   "source": [
    "### Exemplar Data"
   ]
  },
  {
   "cell_type": "code",
   "execution_count": 48,
   "metadata": {},
   "outputs": [],
   "source": [
    "# Load in exemplar data\n",
    "digits = load_digits()"
   ]
  },
  {
   "cell_type": "markdown",
   "metadata": {},
   "source": [
    "## Analysis"
   ]
  },
  {
   "cell_type": "code",
   "execution_count": null,
   "metadata": {},
   "outputs": [],
   "source": []
  }
 ],
 "metadata": {
  "kernelspec": {
   "display_name": "Python 3",
   "language": "python",
   "name": "python3"
  },
  "language_info": {
   "codemirror_mode": {
    "name": "ipython",
    "version": 3
   },
   "file_extension": ".py",
   "mimetype": "text/x-python",
   "name": "python",
   "nbconvert_exporter": "python",
   "pygments_lexer": "ipython3",
   "version": "3.6.3"
  }
 },
 "nbformat": 4,
 "nbformat_minor": 2
}
