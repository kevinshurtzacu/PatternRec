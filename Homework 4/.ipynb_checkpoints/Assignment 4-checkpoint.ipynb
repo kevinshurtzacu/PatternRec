{
 "cells": [
  {
   "cell_type": "markdown",
   "metadata": {},
   "source": [
    "# Homework 4\n",
    "We will apply a neural network to determine whether a patient is likely to have cancer."
   ]
  },
  {
   "cell_type": "markdown",
   "metadata": {},
   "source": [
    "## Problem Description\n",
    "In this assignment, we start with a sample of cancer data.  The sample data has 30 unknown features, and indicates whether each sample is malignant or benign.  We will create a neural network to identify the relevant features for determining malignancy, and apply the resulting network to predict cancer in a separate dataset.  "
   ]
  },
  {
   "cell_type": "markdown",
   "metadata": {},
   "source": [
    "## Solution Method\n",
    "I will create a neural network using the `sklearn.neural_network` module.  I will reserve a small subset (probably 15%) of the training data for testing purposes, and use the rest to train the neural network.  I will try several configurations of the network to identify the optimal settings, potentiall varying the number of hidden nodes, the activation function, and othe relevant parameters."
   ]
  },
  {
   "cell_type": "markdown",
   "metadata": {},
   "source": [
    "## Input"
   ]
  },
  {
   "cell_type": "code",
   "execution_count": 14,
   "metadata": {},
   "outputs": [],
   "source": [
    "import pandas as pd\n",
    "import numpy as np\n",
    "\n",
    "cancer_data = pd.read_csv('cancer-data.csv')\n",
    "patients = pd.read_csv('cancer-patients.csv')\n",
    "\n",
    "from sklearn import model_selection\n",
    "\n",
    "# Select relevant features for X and y\n",
    "X = np.transpose(np.array([\n",
    "    cancer_data['F01'], cancer_data['F02'], cancer_data['F03'], cancer_data['F04'], cancer_data['F05'],\n",
    "    cancer_data['F06'], cancer_data['F07'], cancer_data['F08'], cancer_data['F09'], cancer_data['F10'],\n",
    "    cancer_data['F11'], cancer_data['F12'], cancer_data['F13'], cancer_data['F14'], cancer_data['F15'],\n",
    "    cancer_data['F16'], cancer_data['F17'], cancer_data['F18'], cancer_data['F19'], cancer_data['F20'],\n",
    "    cancer_data['F21'], cancer_data['F22'], cancer_data['F23'], cancer_data['F24'], cancer_data['F25'],\n",
    "    cancer_data['F26'], cancer_data['F27'], cancer_data['F28'], cancer_data['F29'], cancer_data['F30'],\n",
    "]))\n",
    "\n",
    "y = np.array([1 if diag == 'M' else 0 for diag in cancer_data['Class']])\n",
    "\n",
    "X_train, X_test, y_train, y_test = model_selection.train_test_split(X, y)"
   ]
  },
  {
   "cell_type": "markdown",
   "metadata": {},
   "source": [
    "## Analysis"
   ]
  },
  {
   "cell_type": "code",
   "execution_count": 34,
   "metadata": {},
   "outputs": [],
   "source": [
    "from sklearn import neural_network\n",
    "\n",
    "# Several hidden layer sizes that may be appropriate to the number of features\n",
    "hiddens = (\n",
    "    (2),\n",
    "    (5),\n",
    "    (8),\n",
    "    (10),\n",
    "    (15),\n",
    "    (20),\n",
    "    (30),\n",
    "    (50),\n",
    "    (50,50),\n",
    "    (70,40)\n",
    ")\n",
    "\n",
    "# Create a default classifier and score\n",
    "best_clf = None\n",
    "best_score = 0.0\n",
    "\n",
    "for hidden in hiddens:\n",
    "    # Train a new classifier\n",
    "    clf = neural_network.MLPClassifier(\n",
    "        hidden_layer_sizes=hidden,\n",
    "        max_iter=10000,\n",
    "        random_state=12)\n",
    "    clf.fit(X_train, y_train)\n",
    "\n",
    "    # Update best classifier\n",
    "    score = clf.score(X_test, y_test)\n",
    "    \n",
    "    if score > best_score:\n",
    "        best_clf = clf\n",
    "        best_score = score"
   ]
  },
  {
   "cell_type": "markdown",
   "metadata": {},
   "source": [
    "## Results"
   ]
  },
  {
   "cell_type": "code",
   "execution_count": 74,
   "metadata": {},
   "outputs": [
    {
     "name": "stdout",
     "output_type": "stream",
     "text": [
      "Best score: 0.9264705882352942\n",
      "\n",
      "Patient 1544, cancer is malignant.\n",
      "Patient 1545, cancer is benign.\n",
      "Patient 1546, cancer is benign.\n",
      "Patient 1547, cancer is malignant.\n",
      "Patient 1548, cancer is malignant.\n",
      "Patient 1549, cancer is benign.\n",
      "Patient 1550, cancer is benign.\n",
      "Patient 1551, cancer is benign.\n",
      "Patient 1552, cancer is benign.\n",
      "Patient 1553, cancer is malignant.\n",
      "Patient 1554, cancer is malignant.\n",
      "Patient 1555, cancer is malignant.\n",
      "Patient 1556, cancer is malignant.\n",
      "Patient 1557, cancer is benign.\n",
      "Patient 1558, cancer is malignant.\n",
      "Patient 1559, cancer is benign.\n",
      "Patient 1560, cancer is malignant.\n",
      "Patient 1561, cancer is malignant.\n",
      "Patient 1562, cancer is benign.\n",
      "Patient 1563, cancer is benign.\n",
      "Patient 1564, cancer is benign.\n",
      "Patient 1565, cancer is benign.\n",
      "Patient 1566, cancer is malignant.\n",
      "Patient 1567, cancer is benign.\n",
      "Patient 1568, cancer is benign.\n"
     ]
    }
   ],
   "source": [
    "# Data to use when running the final tests\n",
    "X_run = np.transpose(np.array([\n",
    "    patients['F01'], patients['F02'], patients['F03'], patients['F04'], patients['F05'],\n",
    "    patients['F06'], patients['F07'], patients['F08'], patients['F09'], patients['F10'],\n",
    "    patients['F11'], patients['F12'], patients['F13'], patients['F14'], patients['F15'],\n",
    "    patients['F16'], patients['F17'], patients['F18'], patients['F19'], patients['F20'],\n",
    "    patients['F21'], patients['F22'], patients['F23'], patients['F24'], patients['F25'],\n",
    "    patients['F26'], patients['F27'], patients['F28'], patients['F29'], patients['F30'],\n",
    "]))\n",
    "\n",
    "print(f\"Best score: {best_score}\\n\")\n",
    "\n",
    "for i, (patient, diagnosis) in enumerate(zip(patients.iterrows(), results)):\n",
    "    patient_ID = int(patient[1]['ID'])\n",
    "    patient_diag = 'malignant' if diagnosis == 1 else 'benign'\n",
    "    \n",
    "    print(f\"Patient {patient_ID}, cancer is {patient_diag}.\")"
   ]
  },
  {
   "cell_type": "markdown",
   "metadata": {},
   "source": [
    "## Discussion\n",
    "Since I do not have the actual results of the cancer samples used when applying the neural network, I cannot truly assess the accuracy of my classifier.  Additionally, the nature of a neural network makes the determinant factors in any given decision difficult to determine.  Even with the proper results, it could be difficult to determine the features that generated the results, whether correct or incorrect.\n",
    "\n",
    "Nonetheless, the resulting distribution of diagnosis looks similar to that of the training data, which is encouraging, and the accuracy for the test data partition was cited at over 90%.  This suggests that the results are a reasonably accurate portrait of the actual diagnoses.\n",
    "\n",
    "I was surpised to find that, in spite of possessing 30 features, a hidden layer of size 10 generated the most accurate classifier.  I assumed that we would need a number of hidden layers comparable to the number of inputs before additional nodes became unnecessary.  I underestimated the efficacy of simpler configurations.\n",
    "\n",
    "I intended to try different activation functions, but time has thus far prohibited me from exploring this.  Nonetheless, the default rectified linear function seems to have provided a good balance of accuracy and performance."
   ]
  }
 ],
 "metadata": {
  "kernelspec": {
   "display_name": "Python 3",
   "language": "python",
   "name": "python3"
  },
  "language_info": {
   "codemirror_mode": {
    "name": "ipython",
    "version": 3
   },
   "file_extension": ".py",
   "mimetype": "text/x-python",
   "name": "python",
   "nbconvert_exporter": "python",
   "pygments_lexer": "ipython3",
   "version": "3.6.3"
  }
 },
 "nbformat": 4,
 "nbformat_minor": 2
}
